{
 "cells": [
  {
   "cell_type": "code",
   "execution_count": 310,
   "metadata": {},
   "outputs": [],
   "source": [
    "# load training data\n",
    "import pandas as pd\n",
    "import numpy as np\n",
    "\n",
    "data_train = pd.read_csv('data_train.csv')\n",
    "data_test = pd.read_csv('data_test.csv')\n",
    "train_id = data_train['Id'].astype('int32').values\n",
    "test_id = data_test['Id'].astype('int32').values\n",
    "data_train = data_train.drop(['Id'], axis=1)\n",
    "data_test = data_test.drop(['Id'], axis=1)\n",
    "# data_train.info()\n",
    "# data_train.describe()\n",
    "\n",
    "\n",
    "\n"
   ]
  },
  {
   "cell_type": "code",
   "execution_count": 311,
   "metadata": {},
   "outputs": [
    {
     "name": "stdout",
     "output_type": "stream",
     "text": [
      "<class 'pandas.core.frame.DataFrame'>\n",
      "RangeIndex: 74016 entries, 0 to 74015\n",
      "Columns: 782 entries, Год выпуска to Ускорение\n",
      "dtypes: float64(66), int64(1), uint8(715)\n",
      "memory usage: 88.3 MB\n",
      "<class 'pandas.core.frame.DataFrame'>\n",
      "RangeIndex: 146012 entries, 0 to 146011\n",
      "Columns: 782 entries, Год выпуска to Ускорение\n",
      "dtypes: float64(39), int64(1), uint8(742)\n",
      "memory usage: 147.9 MB\n"
     ]
    }
   ],
   "source": [
    "# handle categorical features and na data\n",
    "\n",
    "def transform(data):\n",
    "    data = pd.get_dummies(data, columns=['Модель', 'Марка', 'Тип топлива', 'Трансмиссия','Количество дверей','Количество мест'], dummy_na=True)\n",
    "    data['Линейный объем']=data['Рабочий объем'] ** 1/3\n",
    "    data['Ускорение']=data['Мощность двигателя'] ** 1/2\n",
    "    return data\n",
    "target = data_train['Цена'].values\n",
    "data_train = data_train.drop(['Цена'], axis=1)\n",
    "data_train = transform(data_train)\n",
    "data_test = transform(data_test)\n",
    "dtest, dtrain = data_test.align(data_train, join='outer', axis=1)\n",
    "dtest.info()\n",
    "dtrain.info()\n",
    "\n"
   ]
  },
  {
   "cell_type": "code",
   "execution_count": 312,
   "metadata": {},
   "outputs": [
    {
     "data": {
      "text/plain": [
       "\"\\nfrom sklearn.preprocessing import LabelEncoder\\n\\nmark = LabelEncoder().fit(data_train['Марка'])\\nmodel = LabelEncoder().fit(data_train['Модель'])\\nfuel = LabelEncoder().fit(data_train['Тип топлива'])\\ntrans = LabelEncoder().fit(data_train['Трансмиссия'])\\ndoors = LabelEncoder().fit(data_train['Количество дверей'])\\nplaces = LabelEncoder().fit(data_train['Количество мест'])\\n\\ndef encode_labels(data):\\n    data['Марка']=mark.transform(data['Марка'].values)\\n    data['Модель']=model.transform(data['Модель'].values)\\n    data['Тип топлива']=fuel.transform(data['Тип топлива'].values)\\n    data['Трансмиссия']=trans.transform(data['Трансмиссия'].values)\\n    data['Количество мест']=places.transforms(data['Количество мест'].values)\\n    data['Количество дверей']=doors.transform(data['Количество дверей'].values)\\n\""
      ]
     },
     "execution_count": 312,
     "metadata": {},
     "output_type": "execute_result"
    }
   ],
   "source": [
    "\"\"\"\n",
    "from sklearn.preprocessing import LabelEncoder\n",
    "\n",
    "mark = LabelEncoder().fit(data_train['Марка'])\n",
    "model = LabelEncoder().fit(data_train['Модель'])\n",
    "fuel = LabelEncoder().fit(data_train['Тип топлива'])\n",
    "trans = LabelEncoder().fit(data_train['Трансмиссия'])\n",
    "doors = LabelEncoder().fit(data_train['Количество дверей'])\n",
    "places = LabelEncoder().fit(data_train['Количество мест'])\n",
    "\n",
    "def encode_labels(data):\n",
    "    data['Марка']=mark.transform(data['Марка'].values)\n",
    "    data['Модель']=model.transform(data['Модель'].values)\n",
    "    data['Тип топлива']=fuel.transform(data['Тип топлива'].values)\n",
    "    data['Трансмиссия']=trans.transform(data['Трансмиссия'].values)\n",
    "    data['Количество мест']=places.transforms(data['Количество мест'].values)\n",
    "    data['Количество дверей']=doors.transform(data['Количество дверей'].values)\n",
    "\"\"\""
   ]
  },
  {
   "cell_type": "code",
   "execution_count": 313,
   "metadata": {},
   "outputs": [],
   "source": [
    "\n",
    "from sklearn.model_selection import train_test_split\n",
    "from sklearn.preprocessing import StandardScaler\n",
    "from sklearn.impute import SimpleImputer\n",
    "\n",
    "imp = SimpleImputer(fill_value=0, strategy='constant')\n",
    "imp.fit(dtrain.values)\n",
    "sc = StandardScaler()\n",
    "train=imp.transform(dtrain.values)\n",
    "sc.fit(train)\n",
    "#train = sc.transform(train)\n",
    "test = imp.transform(dtest.values)\n",
    "#test = sc.transform(test)\n",
    "from sklearn.decomposition import PCA\n",
    "pca = PCA(n_components=20)\n",
    "pca.fit(train)\n",
    "train = pca.transform(train)\n",
    "test = pca.transform(test)\n",
    "\n"
   ]
  },
  {
   "cell_type": "code",
   "execution_count": 319,
   "metadata": {},
   "outputs": [],
   "source": [
    "X_train, X_test, y_train, y_test = train_test_split(train, target, test_size=0.3)"
   ]
  },
  {
   "cell_type": "code",
   "execution_count": 320,
   "metadata": {},
   "outputs": [
    {
     "data": {
      "text/plain": [
       "0.4453973979342004"
      ]
     },
     "execution_count": 320,
     "metadata": {},
     "output_type": "execute_result"
    }
   ],
   "source": [
    "from sklearn.linear_model import LinearRegression\n",
    "lin_reg = LinearRegression()\n",
    "lin_reg = lin_reg.fit(X_train, y_train)\n",
    "lin_reg.score(X_test, y_test)"
   ]
  },
  {
   "cell_type": "code",
   "execution_count": 321,
   "metadata": {},
   "outputs": [
    {
     "name": "stdout",
     "output_type": "stream",
     "text": [
      "0.5639649421765234\n"
     ]
    }
   ],
   "source": [
    "from sklearn.ensemble import RandomForestRegressor\n",
    "rf = RandomForestRegressor(n_estimators=10, n_jobs=10, min_samples_split=10)\n",
    "rf.fit(X_train, y_train)\n",
    "print(rf.score(X_test, y_test))"
   ]
  },
  {
   "cell_type": "code",
   "execution_count": 322,
   "metadata": {},
   "outputs": [],
   "source": [
    "y_pred_lr = lin_reg.predict(test)\n",
    "y_pred_rf = rf.predict(test)\n",
    "pd.DataFrame(np.array([test_id, y_pred_lr]).T, columns=['Id','Price'], dtype='int32').to_csv('lin_reg.csv', index=False)\n",
    "pd.DataFrame(np.array([test_id, y_pred_rf]).T, columns=['Id','Price'], dtype='int32').to_csv('random_forest.csv', index=False)\n",
    "\n"
   ]
  },
  {
   "cell_type": "code",
   "execution_count": 227,
   "metadata": {},
   "outputs": [],
   "source": [
    "\n",
    "res.to_csv('lin_reg.csv', index=False)"
   ]
  },
  {
   "cell_type": "code",
   "execution_count": 223,
   "metadata": {},
   "outputs": [
    {
     "name": "stdout",
     "output_type": "stream",
     "text": [
      "int32\n"
     ]
    }
   ],
   "source": [
    "print(test_id.dtype)"
   ]
  }
 ],
 "metadata": {
  "kernelspec": {
   "display_name": "Python 3",
   "language": "python",
   "name": "python3"
  },
  "language_info": {
   "codemirror_mode": {
    "name": "ipython",
    "version": 3
   },
   "file_extension": ".py",
   "mimetype": "text/x-python",
   "name": "python",
   "nbconvert_exporter": "python",
   "pygments_lexer": "ipython3",
   "version": "3.7.3"
  }
 },
 "nbformat": 4,
 "nbformat_minor": 2
}
